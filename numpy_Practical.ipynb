{
  "nbformat": 4,
  "nbformat_minor": 0,
  "metadata": {
    "colab": {
      "provenance": []
    },
    "kernelspec": {
      "name": "python3",
      "display_name": "Python 3"
    },
    "language_info": {
      "name": "python"
    }
  },
  "cells": [
    {
      "cell_type": "markdown",
      "source": [
        "**Q1.Create a 3x3 NumPy array with random integers between 1 and 100. Then, interchange its rows and columns.**"
      ],
      "metadata": {
        "id": "f4GIB1M-O_-s"
      }
    },
    {
      "cell_type": "code",
      "execution_count": null,
      "metadata": {
        "colab": {
          "base_uri": "https://localhost:8080/"
        },
        "id": "Aa8eynI9Ow0H",
        "outputId": "79b86f20-e706-4911-ca61-047fa2d07b2a"
      },
      "outputs": [
        {
          "output_type": "stream",
          "name": "stdout",
          "text": [
            "Original Array:\n",
            "[[38 97 13]\n",
            " [78 91 32]\n",
            " [78 98 71]]\n",
            "\n",
            "Transposed Array:\n",
            "[[38 78 78]\n",
            " [97 91 98]\n",
            " [13 32 71]]\n"
          ]
        }
      ],
      "source": [
        "import numpy as np\n",
        "\n",
        "array = np.random.randint(1, 101, (3, 3))\n",
        "\n",
        "transposed_array = np.transpose(array)\n",
        "\n",
        "print(\"Original Array:\")\n",
        "print(array)\n",
        "\n",
        "print(\"\\nTransposed Array:\")\n",
        "print(transposed_array)\n"
      ]
    },
    {
      "cell_type": "markdown",
      "source": [
        "**Q2.Generate a 1D NumPy array with 10 elements. Reshape it into a 2x5 array, then into a 5x2 array**"
      ],
      "metadata": {
        "id": "M8qWPxkZRJiD"
      }
    },
    {
      "cell_type": "code",
      "source": [
        "import numpy as np\n",
        "\n",
        "one_d_array = np.arange(10)\n",
        "\n",
        "a1 = one_d_array.reshape(2, 5)\n",
        "\n",
        "a2 = one_d_array.reshape(5, 2)\n",
        "\n",
        "print(\"1D Array:\")\n",
        "print(one_d_array)\n",
        "\n",
        "print(\"\\nReshaped into 2x5 Array:\")\n",
        "print(a1)\n",
        "\n",
        "print(\"\\nReshaped into 5x2 Array:\")\n",
        "print(a2)\n"
      ],
      "metadata": {
        "colab": {
          "base_uri": "https://localhost:8080/"
        },
        "id": "Ubm09uIYQtCt",
        "outputId": "3b91963a-c260-4b68-ff7c-232dced6ee87"
      },
      "execution_count": null,
      "outputs": [
        {
          "output_type": "stream",
          "name": "stdout",
          "text": [
            "1D Array:\n",
            "[0 1 2 3 4 5 6 7 8 9]\n",
            "\n",
            "Reshaped into 2x5 Array:\n",
            "[[0 1 2 3 4]\n",
            " [5 6 7 8 9]]\n",
            "\n",
            "Reshaped into 5x2 Array:\n",
            "[[0 1]\n",
            " [2 3]\n",
            " [4 5]\n",
            " [6 7]\n",
            " [8 9]]\n"
          ]
        }
      ]
    },
    {
      "cell_type": "markdown",
      "source": [
        "**Q3.Create a 4x4 NumPy array with random float values. Add a border of zeros around it, resulting in a 6x6 array.**"
      ],
      "metadata": {
        "id": "heApxLB_TlwZ"
      }
    },
    {
      "cell_type": "code",
      "source": [
        "array_4x4 = np.random.rand(4, 4)\n",
        "\n",
        "array_with_border = np.pad(array_4x4, pad_width=1, mode='constant', constant_values=0)\n",
        "\n",
        "array_4x4, array_with_border\n",
        "\n"
      ],
      "metadata": {
        "colab": {
          "base_uri": "https://localhost:8080/"
        },
        "id": "bzyv1pzvSX4e",
        "outputId": "c0484284-8f64-400b-d179-f727c52926c1"
      },
      "execution_count": null,
      "outputs": [
        {
          "output_type": "execute_result",
          "data": {
            "text/plain": [
              "(array([[0.10683336, 0.37282282, 0.42438233, 0.36719258],\n",
              "        [0.65431322, 0.95330446, 0.44946632, 0.44177542],\n",
              "        [0.60803117, 0.31872317, 0.24844665, 0.33170441],\n",
              "        [0.35192218, 0.86371453, 0.81665455, 0.53125333]]),\n",
              " array([[0.        , 0.        , 0.        , 0.        , 0.        ,\n",
              "         0.        ],\n",
              "        [0.        , 0.10683336, 0.37282282, 0.42438233, 0.36719258,\n",
              "         0.        ],\n",
              "        [0.        , 0.65431322, 0.95330446, 0.44946632, 0.44177542,\n",
              "         0.        ],\n",
              "        [0.        , 0.60803117, 0.31872317, 0.24844665, 0.33170441,\n",
              "         0.        ],\n",
              "        [0.        , 0.35192218, 0.86371453, 0.81665455, 0.53125333,\n",
              "         0.        ],\n",
              "        [0.        , 0.        , 0.        , 0.        , 0.        ,\n",
              "         0.        ]]))"
            ]
          },
          "metadata": {},
          "execution_count": 13
        }
      ]
    },
    {
      "cell_type": "markdown",
      "source": [
        "**Q4. Using NumPy, create an array of integers from 10 to 60 with a step of 5.**"
      ],
      "metadata": {
        "id": "sDR9qmWOWst8"
      }
    },
    {
      "cell_type": "code",
      "source": [
        "import numpy as np\n",
        "\n",
        "array_integer = np.arange(10,60,5)\n",
        "\n",
        "array_integer\n"
      ],
      "metadata": {
        "colab": {
          "base_uri": "https://localhost:8080/"
        },
        "id": "Bvu6VeMVUfVx",
        "outputId": "e9eac4f1-6634-4759-e913-e33ba76bf3ae"
      },
      "execution_count": null,
      "outputs": [
        {
          "output_type": "execute_result",
          "data": {
            "text/plain": [
              "array([10, 15, 20, 25, 30, 35, 40, 45, 50, 55])"
            ]
          },
          "metadata": {},
          "execution_count": 17
        }
      ]
    },
    {
      "cell_type": "markdown",
      "source": [
        "**Q5.Create a NumPy array of strings ['python', 'numpy', 'pandas']. Apply different case transformations\n",
        "(uppercase, lowercase, title case, etc.) to each element**"
      ],
      "metadata": {
        "id": "frIEl8wGyiMf"
      }
    },
    {
      "cell_type": "code",
      "source": [
        "import numpy as np\n",
        "\n",
        "\n",
        "string_array = np.array(['python', 'numpy', 'pandas'])\n",
        "\n",
        "upper_case = np.char.upper(string_array)\n",
        "lower_case = np.char.lower(string_array)\n",
        "title_case = np.char.title(string_array)\n",
        "capitalize_case = np.char.capitalize(string_array)\n",
        "\n",
        "print(\"Original Array:\", string_array)\n",
        "print(\"Uppercase:\", upper_case)\n",
        "print(\"Lowercase:\", lower_case)\n",
        "print(\"Title Case:\", title_case)\n",
        "print(\"Capitalize Case:\", capitalize_case)\n"
      ],
      "metadata": {
        "id": "b4EYOTU6XVYc",
        "colab": {
          "base_uri": "https://localhost:8080/"
        },
        "outputId": "cc082b1f-fb1e-4861-9866-015d0f37fa12"
      },
      "execution_count": 2,
      "outputs": [
        {
          "output_type": "stream",
          "name": "stdout",
          "text": [
            "Original Array: ['python' 'numpy' 'pandas']\n",
            "Uppercase: ['PYTHON' 'NUMPY' 'PANDAS']\n",
            "Lowercase: ['python' 'numpy' 'pandas']\n",
            "Title Case: ['Python' 'Numpy' 'Pandas']\n",
            "Capitalize Case: ['Python' 'Numpy' 'Pandas']\n"
          ]
        }
      ]
    },
    {
      "cell_type": "markdown",
      "source": [
        "**Q6.Generate a NumPy array of words. Insert a space between each character of every word in the array**"
      ],
      "metadata": {
        "id": "TtHW7QXSIIDP"
      }
    },
    {
      "cell_type": "code",
      "source": [
        "import numpy as np\n",
        "\n",
        "words_array = np.array(['Swetank', 'Kumar', 'Singh'])\n",
        "\n",
        "spaced_words = np.char.join(' ', words_array)\n",
        "\n",
        "print(\"Original Array:\", words_array)\n",
        "print(\"Array with spaces between characters:\", spaced_words)\n"
      ],
      "metadata": {
        "colab": {
          "base_uri": "https://localhost:8080/"
        },
        "id": "-Owu9yTSzLVo",
        "outputId": "8e8f3a59-b9fd-4ac2-ad6e-85d709b6d0fe"
      },
      "execution_count": 4,
      "outputs": [
        {
          "output_type": "stream",
          "name": "stdout",
          "text": [
            "Original Array: ['Swetank' 'Kumar' 'Singh']\n",
            "Array with spaces between characters: ['S w e t a n k' 'K u m a r' 'S i n g h']\n"
          ]
        }
      ]
    },
    {
      "cell_type": "markdown",
      "source": [
        "**Q7. Create two 2D NumPy arrays and perform element-wise addition, subtraction, multiplication, and division.**"
      ],
      "metadata": {
        "id": "FXfAfk6lJj-c"
      }
    },
    {
      "cell_type": "code",
      "source": [
        "import numpy as np\n",
        "\n",
        "array1 = np.array([[1, 2, 3], [4, 5, 6]])\n",
        "array2 = np.array([[7, 8, 9], [10, 11, 12]])\n",
        "\n",
        "addition_result = array1 + array2\n",
        "print(\"Addition result:\\n\", addition_result)\n",
        "\n",
        "subtraction_result = array1 - array2\n",
        "print(\"Subtraction result:\\n\", subtraction_result)\n",
        "\n",
        "multiplication_result = array1 * array2\n",
        "print(\"Multiplication result:\\n\", multiplication_result)\n",
        "\n",
        "division_result = array1 / array2\n",
        "print(\"Division result:\\n\", division_result)\n"
      ],
      "metadata": {
        "colab": {
          "base_uri": "https://localhost:8080/"
        },
        "id": "HH6ljPsoI6wQ",
        "outputId": "89d57bce-480f-4c49-b369-228d02a88e82"
      },
      "execution_count": 6,
      "outputs": [
        {
          "output_type": "stream",
          "name": "stdout",
          "text": [
            "Addition result:\n",
            " [[ 8 10 12]\n",
            " [14 16 18]]\n",
            "Subtraction result:\n",
            " [[-6 -6 -6]\n",
            " [-6 -6 -6]]\n",
            "Multiplication result:\n",
            " [[ 7 16 27]\n",
            " [40 55 72]]\n",
            "Division result:\n",
            " [[0.14285714 0.25       0.33333333]\n",
            " [0.4        0.45454545 0.5       ]]\n"
          ]
        }
      ]
    },
    {
      "cell_type": "markdown",
      "source": [
        "**Q8.Use NumPy to create a 5x5 identity matrix, then extract its diagonal elements.**"
      ],
      "metadata": {
        "id": "5VoWN-5CKbfD"
      }
    },
    {
      "cell_type": "code",
      "source": [
        "import numpy as np\n",
        "\n",
        "identity_matrix = np.eye(5)\n",
        "\n",
        "diagonal_elements = identity_matrix.diagonal()\n",
        "\n",
        "print(\"Identity matrix:\\n\", identity_matrix)\n",
        "print(\"Diagonal elements:\", diagonal_elements)"
      ],
      "metadata": {
        "colab": {
          "base_uri": "https://localhost:8080/"
        },
        "id": "6y9zN-xdJwKn",
        "outputId": "13440e7d-4d3b-4090-edd3-3044743b905b"
      },
      "execution_count": 7,
      "outputs": [
        {
          "output_type": "stream",
          "name": "stdout",
          "text": [
            "Identity matrix:\n",
            " [[1. 0. 0. 0. 0.]\n",
            " [0. 1. 0. 0. 0.]\n",
            " [0. 0. 1. 0. 0.]\n",
            " [0. 0. 0. 1. 0.]\n",
            " [0. 0. 0. 0. 1.]]\n",
            "Diagonal elements: [1. 1. 1. 1. 1.]\n"
          ]
        }
      ]
    },
    {
      "cell_type": "markdown",
      "source": [
        "**Q9.Generate a NumPy array of 100 random integers between 0 and 1000. Find and display all prime numbers in\n",
        "this array**"
      ],
      "metadata": {
        "id": "Wu1WYNwWLDWK"
      }
    },
    {
      "cell_type": "code",
      "source": [
        "import numpy as np\n",
        "\n",
        "def is_prime(n):\n",
        "    if n <= 1:\n",
        "        return False\n",
        "    for i in range(2, int(n**0.5) + 1):\n",
        "        if n % i == 0:\n",
        "            return False\n",
        "    return True\n",
        "\n",
        "random_integers = np.random.randint(0, 1001, size=100)\n",
        "\n",
        "prime_numbers = [num for num in random_integers if is_prime(num)]\n",
        "\n",
        "print(\"Original Array of Random Integers:\")\n",
        "print(random_integers)\n",
        "\n",
        "print(\"\\nPrime Numbers in the Array:\")\n",
        "print(prime_numbers)\n"
      ],
      "metadata": {
        "colab": {
          "base_uri": "https://localhost:8080/"
        },
        "id": "0LSmLxbmLL6Y",
        "outputId": "40d1e73e-70dc-463d-c5a2-8fdd58bada97"
      },
      "execution_count": 9,
      "outputs": [
        {
          "output_type": "stream",
          "name": "stdout",
          "text": [
            "Original Array of Random Integers:\n",
            "[ 847  681   28  386  281   72  162  808  660  936  921  853  424  962\n",
            "  125  550  848  187   20  399  239  245  373  681  795   27  223  535\n",
            "  877  419  939  272  179  884  404  198  988   54  916  440  726  967\n",
            "  700  696  355  774   85  945  807 1000  178  586  463  743  883   97\n",
            "  686  134  573  375  142   47  779  499  856  402  258  560  288  157\n",
            "  232  239  526   23  941  661   34  135  372  549  736  381  798  777\n",
            "  247  355  909  777  141  217  761  528  625  386  795  700   14  299\n",
            "   29  164]\n",
            "\n",
            "Prime Numbers in the Array:\n",
            "[281, 853, 239, 373, 223, 877, 419, 179, 967, 463, 743, 883, 97, 47, 499, 157, 239, 23, 941, 661, 761, 29]\n"
          ]
        }
      ]
    },
    {
      "cell_type": "markdown",
      "source": [
        "**Q10. Create a NumPy array representing daily temperatures for a month. Calculate and display the weekly\n",
        "averages.**"
      ],
      "metadata": {
        "id": "Pp4oqOmtNwZq"
      }
    },
    {
      "cell_type": "code",
      "source": [
        "import numpy as np\n",
        "\n",
        "daily_temperatures = np.random.randint(15, 35, size=30)\n",
        "\n",
        "weekly_averages = [np.mean(daily_temperatures[i:i+7]) for i in range(0, 30,7)]\n",
        "\n",
        "print(\"Daily Temperatures:\")\n",
        "print(daily_temperatures)\n",
        "\n",
        "print(\"\\nWeekly Averages:\")\n",
        "print(weekly_averages)\n",
        "\n"
      ],
      "metadata": {
        "colab": {
          "base_uri": "https://localhost:8080/"
        },
        "id": "93Tu--fgL4Np",
        "outputId": "3db16345-e5e3-4988-82bc-ddb69e87d605"
      },
      "execution_count": 16,
      "outputs": [
        {
          "output_type": "stream",
          "name": "stdout",
          "text": [
            "Daily Temperatures:\n",
            "[19 16 20 21 33 17 24 19 33 15 26 31 24 22 32 24 28 23 33 28 33 26 29 21\n",
            " 17 24 24 15 17 22]\n",
            "\n",
            "Weekly Averages:\n",
            "[21.428571428571427, 24.285714285714285, 28.714285714285715, 22.285714285714285, 19.5]\n"
          ]
        }
      ]
    },
    {
      "cell_type": "code",
      "source": [],
      "metadata": {
        "id": "A3N2jGbHOjnM"
      },
      "execution_count": 12,
      "outputs": []
    }
  ]
}